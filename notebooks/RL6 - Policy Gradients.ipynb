{
 "cells": [
  {
   "cell_type": "markdown",
   "id": "af2c7eac-fbff-48e4-abd3-f0fbc8aee546",
   "metadata": {},
   "source": [
    "<a rel=\"license\" href=\"http://creativecommons.org/licenses/by-nc-sa/4.0/\"><img alt=\"Creative Commons License\" align=\"left\" src=\"https://i.creativecommons.org/l/by-nc-sa/4.0/80x15.png\" /></a>&nbsp;| [Emmanuel Rachelson](https://personnel.isae-supaero.fr/emmanuel-rachelson?lang=en) | <a href=\"https://erachelson.github.io/RLclass_MVA/\">https://erachelson.github.io/RLclass_MVA/</a>"
   ]
  },
  {
   "cell_type": "markdown",
   "id": "887122ef-64e7-42f7-b83e-a684377dede3",
   "metadata": {},
   "source": [
    "<div style=\"font-size:22pt; line-height:25pt; font-weight:bold; text-align:center;\">Chapter 5: Policy gradient algorithms</div>"
   ]
  },
  {
   "cell_type": "markdown",
   "id": "f6bf06b7-7e7f-4587-ae8d-656436cc4c15",
   "metadata": {},
   "source": [
    "In this chapter we first depart from the (approximate) dynamic programming framework we have worked with so far. We turn back to a criterion for optimality we introduced in the first chapters, namely the average value of a policy across (starting) states. We explore the question of writing the gradient of this criterion with respect to policy parameters, which leads us to the very important policy gradient theorem and the family of policy gradient algorithms."
   ]
  },
  {
   "cell_type": "markdown",
   "id": "6a3d20f8-d89f-456e-980a-b1a9f2653a42",
   "metadata": {},
   "source": [
    "<div class=\"alert alert-success\">\n",
    "\n",
    "**Learning outcomes**   \n",
    "By the end of this chapter, you should be able to:\n",
    "- recall and explain the policy gradient theorem\n",
    "</div>"
   ]
  },
  {
   "cell_type": "markdown",
   "id": "089ae3c4-5352-4a2c-b178-49f9d050d693",
   "metadata": {},
   "source": [
    "# Policy gradient methods\n",
    "\n",
    "<div class=\"alert alert-success\">\n",
    "\n",
    "**Bottomline question:**   \n",
    "The previous chapters have focussed on *action-value methods*; they aimed at estimating $Q^*$ in order to deduce $\\pi^*$, or they jointly optimized $Q$ and $\\pi$. Could we directly optimize $\\pi$?\n",
    "</div>\n",
    "\n",
    "Suppose we have a policy $\\pi_\\theta$ parameterized by a vector $\\theta$. Our goal is to find the parameter $\\theta^*$ corresponding to $\\pi^*$.\n",
    "\n",
    "Remarks:\n",
    "- $\\pi_\\theta$ might not be able to represent $\\pi^*$. We will take a shortcut and call $\\pi^*$ the best policy among the $\\pi_\\theta$ ones.\n",
    "- For discrete state and action spaces, the tabular policy representation is a special case of policy parameterization.\n",
    "- Policy parameterization is a (possibly useful) way of introducing prior knowledge on the set of the desired policies.\n",
    "- The optimal deterministic policies might not belong to the policy subspace of $\\pi_\\theta$, thus it makes sense to consider stochastic policies for $\\pi_\\theta$.\n",
    "- It makes even more sense to consider stochastic policies that it opens the family of environments that we can tackle, like partially observable MDPs or multi-player games.\n",
    "\n",
    "For stochastic policies, we shall write $\\pi_\\theta(a|s)$.\n",
    "\n",
    "In the remainder of the chapter, we will assume that $\\pi_\\theta$ is differentiable with respect to $\\theta$."
   ]
  },
  {
   "cell_type": "markdown",
   "id": "5f98a37c-3be9-4820-bb3d-f9ba43eb6911",
   "metadata": {},
   "source": [
    "Suppose now we define some performance metric $J(\\pi_\\theta) = J(\\theta)$. If $J$ is differentiable and a stochastic estimate $\\tilde{\\nabla}_\\theta J(\\theta)$ of the gradient is available, then we can define the stochastic gradient ascent update procedure:\n",
    "$$\\theta \\leftarrow \\theta + \\alpha \\tilde{\\nabla}_\\theta J(\\theta).$$\n",
    "\n",
    "We will call **policy gradient methods** all methods that follow such a procedure (whether or not they also learn a value function or not).\n",
    "\n",
    "<div class=\"alert alert-success\">\n",
    "\n",
    "**Polcy gradient method**   \n",
    "We call **policy gradient method** any method that performs stochastic gradient ascent on the policy's parameters.  \n",
    "Given a stochastic estimate $\\tilde{\\nabla}_\\theta J(\\theta)$ of a policy's performance criterion with respect to the policy's parameters, such a method implements the update procedure: \n",
    "$$\\theta \\leftarrow \\theta + \\alpha \\tilde{\\nabla}_\\theta J(\\theta).$$\n",
    "</div>\n",
    "\n",
    "Remarks: \n",
    "- Note that $J$ is a generic criterion. For example, $J$ could be defined as the $\\gamma$-discounted value of a starting state (or a distribution of starting states), or as the undiscounted reward over a certain horizon, or as the average reward.\n",
    "- Note that this family of methods can use any gradient estimate for $\\tilde{\\nabla}_\\theta J(\\theta)$: formal calculus, finite differences, automated differentiation, evolution strategies, etc.\n",
    "- Why is it interesting to look at policy gradient methods? Because there is no maximization step ($\\max_a Q(s,a)$) during evaluation, which might be costly, especially for continuous actions, but only a call to $\\pi_\\theta(s)$ (or a draw from $\\pi_\\theta(a|s)$). This argument makes actor-critic architectures or direct policy search a method of choice for continuous actions domains (especially common in Robotics) and Policy Gradient is one of them.\n",
    "- When do policy gradient approaches outperform value-based ones? It's hard to give a precise criterion; it really depends on the problem. One thing that comes into play is how easy it is to approximate the optimal policy or the optimal value function. If one is simpler than the other (by \"simpler\", we mean \"it is easier to find a parameterization whose spanned function space almost includes the function to approximate\"), then it is a good heuristic to try to approximate it. But this criterion might itself be hard to assess."
   ]
  },
  {
   "cell_type": "markdown",
   "id": "7792df89-be43-455d-af32-2052d1bd8f15",
   "metadata": {},
   "source": [
    "**Notations**\n",
    "\n",
    "- We consider probability density functions $p(X)$ for all random variables $X$.\n",
    "- For a policy $\\pi_\\theta$ and a random variable $X$ we write indifferently $p(X|\\pi_\\theta) = p(X|\\theta)$.\n",
    "- A trajectory is noted $\\tau = (s_t,a_t)_{t\\in \\mathbb{N}}$.\n",
    "- The state random variable at step $t$ is $S_t$ and its law's density is $p_t(s)$.\n",
    "- The action random variable at step $t$ is $A_t$."
   ]
  },
  {
   "cell_type": "markdown",
   "id": "96beae82-90be-4b77-85e5-21a43733629e",
   "metadata": {},
   "source": [
    "# The policy gradient theorem\n",
    "\n",
    "## Reminder on the policy optimization objective\n",
    "\n",
    "Recal the policy optimization objective defined in previous chapters, given a distribution $p_0$ on states:  \n",
    "$$J(\\pi) = \\mathbb{E}_{s \\sim p_0} \\left[ V^{\\pi} (s) \\right].$$\n",
    "Or equivalently:  \n",
    "$$J(\\pi) = \\mathbb{E}_{(s_i,a_i)_{i \\in \\mathbb{N}}} \\left[ \\sum_{t=0}^\\infty \\gamma^t r(s_t,a_t)  | \\pi, p_0 \\right].$$\n",
    "Since $p_0$ is supposed known and fixed, we will omit it in the rest of this chapter for the sake of readability.  \n",
    "We can switch the sum and the expectation and get:  \n",
    "$$J(\\pi) = \\sum_{t=0}^\\infty \\gamma^t \\mathbb{E}_{(s_i,a_i)_{i \\in \\mathbb{N}}} \\left[ r(s_t,a_t)  | \\pi \\right].$$\n",
    "But $\\mathbb{E}_{(s_i,a_i)_{i \\in \\mathbb{N}}} \\left[ r(s_t,a_t)  | \\pi \\right] = \\mathbb{E}_{s_t,a_t} \\left[ r(s_t,a_t)  | \\pi \\right]$. So:\n",
    "$$J(\\pi) = \\sum_{t=0}^\\infty \\gamma^t \\mathbb{E}_{s_t,a_t} \\left[ r(s_t,a_t)  | \\pi \\right].$$\n",
    "Now let's introduce the density of $(s_t,a_t)$:\n",
    "$$J(\\pi) = \\sum_{t=0}^\\infty \\gamma^t \\int_S \\int_A r(s_t,a_t) p(s_t,a_t|\\pi) ds_t da_t.$$\n",
    "But $p(s_t,a_t|\\pi) = p(s_t|\\pi) p(a_t|s_t,\\pi)$. By definition, $p(s_t|\\pi) = p_t(s|\\pi)$ and $p(a_t=a|s_t=s,\\pi) = \\pi(a|s)$. So:\n",
    "$$J(\\pi) = \\sum_{t=0}^\\infty \\gamma^t \\int_S \\int_A r(s,a) p_t(s|\\pi) \\pi(a|s) ds da.$$\n",
    "Let us isolate the terms that concern only states:\n",
    "$$J(\\pi) = \\int_S \\left[ \\int_A r(s,a) \\pi(a|s) da \\right] \\sum_{t=0}^\\infty \\gamma^t p_t(s|\\pi) ds.$$\n",
    "Let's note $\\rho^\\pi(s) = \\sum_{t=0}^\\infty \\gamma^t p_t(s|\\pi)$. We have encountered this quantity in previous chapters and called it the *state occupancy measure under policy $\\pi$ and starting distribution $p_0$*. It is not a proper distribution per se (it sums to $\\frac{1}{1-\\gamma}$), and is sometimes also called the *improper state distribution under policy $\\pi$* or the *improper state visitation frequency under policy $\\pi$*. Then we have:\n",
    "$$J(\\pi) = \\int_S \\left[ \\int_A r(s,a) \\pi (a|s) da \\right] \\rho^\\pi(s) ds.$$\n",
    "And so finally, with a slight notation abuse because $\\rho^\\pi$ is not a probability distribution:\n",
    "$$J(\\theta) = \\mathbb{E}_{\\substack{s\\sim\\rho^\\pi \\\\ a\\sim \\pi}} \\left[ r(s,a) \\right].$$\n",
    "\n",
    "In plain words, the value of a policy $\\pi$ is the average value of the rewards when states are sampled according to $\\rho^\\pi$ and actions are sampled according to $\\pi$."
   ]
  },
  {
   "cell_type": "markdown",
   "id": "150c60fd-7697-4aee-9e2d-db8b90616e2c",
   "metadata": {},
   "source": [
    "## The policy gradient theorem\n",
    "\n",
    "The crucial problem of computing $\\nabla_\\theta J(\\theta)$ lies in the fact that when $\\theta$ changes, both $\\pi$ and $\\rho^\\pi$ change jointly. So there seems to be no straighforward way of evaluating this gradient. One could fall back to a *finite differences* approach to estimating this gradient, but this would require trying out a series of increments $\\Delta \\theta$ which quickly becomes impractical (because the increment size is hard to tune, especially in stochastic systems, and also because of the sample inefficiency of the approach).\n",
    "\n",
    "Remark:\n",
    "- Let's not discard finite difference methods too quickly. They have their merits and showed great successes through methods such as [PEGASUS (Ng and Jordan, 2000)](https://arxiv.org/abs/1301.3878). Also, having random $\\Delta \\theta$ drawn from a Gaussian distribution is essentially what Evolution Strategies do, and [Salimans et al. (2017)](https://arxiv.org/abs/1703.03864) or [Chrabaszcz et al. (2018)](https://arxiv.org/abs/1802.08842) illustrated how that could be a scalable method to obtain gradient estimates in RL. We won't cover these topics here and leave them as exercises.  \n",
    "\n",
    "The key result of this chapter is that one can express the gradient of $J(\\theta)$ as directly proportional to the value of $Q^\\pi$ and the gradient of $\\pi$:\n",
    "<div class=\"alert alert-success\">\n",
    "\n",
    "**Policy gradient theorem:**  \n",
    "$$\\nabla_\\theta J(\\theta) \\propto \\mathbb{E}_{\\substack{s\\sim\\rho^\\pi \\\\ a\\sim \\pi}} \\left[ Q^\\pi(s,a) \\nabla_\\theta \\log\\pi(a|s)\\right]$$\n",
    "</div>"
   ]
  },
  {
   "cell_type": "markdown",
   "id": "b877d21c-a9bc-400a-8a00-7f68e8d62bc3",
   "metadata": {},
   "source": [
    "<div class=\"alert alert-warning\">\n",
    "\n",
    "**Exercise:**  \n",
    "Why is it not really a problem that $\\rho^\\pi$ is not a proper probability density function?\n",
    "</div>"
   ]
  },
  {
   "cell_type": "markdown",
   "id": "13668513-99c6-4d43-bc64-8913b22e24ae",
   "metadata": {},
   "source": [
    "<details class=\"alert alert-danger\">\n",
    "    <summary markdown=\"span\"><b>Ready to see the answer? (click to expand)</b></summary>\n",
    "\n",
    "It is not really a problem because it is still a measure, proportional to a density function.  \n",
    "We are interested in ascent *directions*, not the exact gradient. The latter is proportional to the former. So as long as we can sample from a distribution whose mass is proportional to $\\rho^\\pi$, we obtain a correct direction estimate.\n",
    "</details>"
   ]
  },
  {
   "cell_type": "markdown",
   "id": "4fed3fb7-e06c-48f4-afbc-717c92935251",
   "metadata": {},
   "source": [
    "The proof of this result is simple but a bit tedious. We can however give the general intuition. Let's consider trajectories $\\tau = (s_0,a_0,r_0,...)$ drawn according to $\\pi$ from the starting state. Each of these trajectories has an overall payoff of $G(\\tau) = \\sum_t \\gamma^t r_t$, and is drawn with probability density $p(\\tau|\\theta)$. Then the objective function can be written:\n",
    "\\begin{align}\n",
    "J(\\theta) &= \\mathbb{E}_\\tau \\left[ G(\\tau) | \\theta \\right]\\\\\n",
    " &= \\int G(\\tau) p(\\tau | \\theta) d\\tau\n",
    "\\end{align}\n",
    "\n",
    "So the objective function's gradient is:\n",
    "\\begin{align}\n",
    "\\nabla_\\theta J(\\theta) &= \\nabla_\\theta \\int G(\\tau) p(\\tau|\\theta) d\\tau,\\\\\n",
    " &= \\int G(\\tau) \\nabla_\\theta p(\\tau|\\theta) d\\tau,\\\\\n",
    " &= \\int G(\\tau) p(\\tau|\\theta) \\frac{\\nabla_\\theta p(\\tau|\\theta)}{p(\\tau|\\theta)} d\\tau,\\\\\n",
    " &= \\mathbb{E}_\\tau \\left[ G(\\tau) \\nabla_\\theta \\log p(\\tau|\\theta) \\right].\n",
    "\\end{align}"
   ]
  },
  {
   "cell_type": "markdown",
   "id": "9992e3d5-bc45-4830-b54a-0463d38fae9d",
   "metadata": {},
   "source": [
    "We have used the fact that $\\nabla_\\theta p(\\tau|\\theta) = p(\\tau|\\theta) \\nabla_\\theta \\log p(\\tau|\\theta)$, sometimes known as the *nabla-log* trick.  \n",
    "Let us study the $\\nabla_\\theta \\log p(\\tau|\\theta)$ term along a series of remarks.\n",
    "\n",
    "**Remark 1: law of $s_{t+1},a_{t+1}$ given the policy and history.**  \n",
    "One has $p(s_{t+1},a_{t+1} | (s_i,a_i)_{i \\in [0,t]}, \\theta) = p(s_{t+1} | (s_i,a_i)_{i \\in [0,t]}, \\theta) p(a_{t+1} | s_{t+1}, (s_i,a_i)_{i \\in [0,t]}, \\theta)$.  \n",
    "But the transition model is Markovian, so $p(s_{t+1} | (s_i,a_i)_{i \\in [0,t]}, \\theta) = p(s_{t+1} | s_t, a_t)$.  \n",
    "And the law of $a_{t+1}$ is given by the policy, so $p(a_{t+1} | s_{t+1}, (s_i,a_i)_{i \\in [0,t]}, \\theta) = \\pi_\\theta(a_{t+1}|s_{t+1})$.  \n",
    "Consequently:\n",
    "$$p(s_{t+1},a_{t+1} | (s_i,a_i)_{i \\in [0,t]}, \\theta) = p(s_{t+1} | s_t, a_t) \\pi_\\theta(a_{t+1}|s_{t+1}).$$"
   ]
  },
  {
   "cell_type": "markdown",
   "id": "d1fd6aeb-d089-4a3d-9137-1bcc62fed008",
   "metadata": {},
   "source": [
    "**Remark 2: probability density of a trajectory.**  \n",
    "Recall that $p(\\tau|\\theta) = p((s_t,a_t)_{t\\in [0,\\infty]}|\\theta)$.  \n",
    "This joint probability can be decomposed into conditional probabilities: $$p(\\tau|\\theta) = p(s_0,a_0|\\theta) \\prod_{t=0}^\\infty p(s_{t+1},a_{t+1} | (s_i,a_i)_{i \\in [0,t]}, \\theta).$$ \n",
    "The previous remarks allows us to simplify to: $$p(\\tau|\\theta) = p(s_0,a_0|\\theta) \\prod_{t=0}^\\infty p(s_{t+1} | s_t, a_t) \\pi_\\theta(a_{t+1}|s_{t+1}).$$ \n",
    "By expanding the first term into $p(s_0)\\pi_\\theta(a_0|s_0)$ and reordering the terms inside the product, we obtain:\n",
    "$$p(\\tau|\\theta) = p(s_0) \\prod_{t=0}^\\infty p(s_{t+1} | s_t, a_t) \\pi_\\theta(a_t|s_t).$$"
   ]
  },
  {
   "cell_type": "markdown",
   "id": "e6d1ea75-547b-4115-ad79-7de88f5d4194",
   "metadata": {},
   "source": [
    "**Remark 3: grad-log-prob of a trajectory.**  \n",
    "Now let us consider the full $\\nabla_\\theta \\log p(\\tau|\\theta)$ term. The previous remarks tell us that  \n",
    "$$\\nabla_\\theta \\log p(\\tau|\\theta) = \\nabla_\\theta \\log p(s_0) + \\sum_{t=0}^\\infty \\left[ \\nabla_\\theta \\log p(s_{t+1} | s_t, a_t) + \\nabla_\\theta \\log \\pi_\\theta(a_t|s_t)\\right].$$\n",
    "But the initial state distribution and the transition model do not depend on $\\theta$, so this expression boils down to:\n",
    "$$\\nabla_\\theta \\log p(\\tau|\\theta) = \\sum_{t=0}^\\infty \\nabla_\\theta \\log \\pi_\\theta(a_t|s_t).$$\n",
    "\n",
    "And we will admit the step which leads to:\n",
    "$$\\nabla_\\theta J(\\theta) = \\mathbb{E}_{\\substack{s\\sim\\rho^\\pi \\\\ a\\sim \\pi}} \\left[ G(\\tau) \\nabla_\\theta \\log \\pi_\\theta(a|s) \\right].$$\n",
    "\n",
    "We don't quite have the policy gradient as stated above, but this intermediate result actually already provides us with a straightforward algorithm, so let's mark it:\n",
    "<div class=\"alert alert-success\">\n",
    "\n",
    "**Policy gradient**  \n",
    "Given trajectories $\\tau=(s_t,a_t)_{t\\in [0,\\infty]}$ drawn according to policy $\\pi$, and evaluated through a criterion $G(\\tau)$, \n",
    "$$\\nabla_\\theta J(\\theta) = \\mathbb{E}_{\\substack{s\\sim\\rho^\\pi \\\\ a\\sim \\pi}} \\left[ G(\\tau) \\nabla_\\theta \\log \\pi_\\theta(a|s) \\right].$$\n",
    "</div>\n",
    "\n",
    "So we could play policy $\\pi_\\theta$ from $p_0$, and collect pairs of states and actions $(s,a)$. After each trajectory terminates, sum the rewards obtained to get $G(\\tau)$, then sum over all encountered states and actions the $G(\\tau) \\nabla_\\theta \\log \\pi_\\theta(a|s)$ terms. This yields an ascent direction: we can take a stochastic gradient ascent step, and repeat."
   ]
  },
  {
   "cell_type": "markdown",
   "id": "171fd865-00d3-4fec-beee-419416af88d1",
   "metadata": {},
   "source": [
    "**Interpretation**  \n",
    "Let us consider a fixed $s$.  \n",
    "Then $\\nabla_\\theta \\log \\pi_\\theta(a|s)$ is the answer to \"in what direction should I change $\\theta$ to increase the log probability of taking action $a$ in $s$?\".  \n",
    "The expression above tells us that in order to improve the value of $\\pi_\\theta$, we should change $\\theta$ in a direction that is a linear combination of all $\\nabla_\\theta \\pi_\\theta(a|s)$, giving more weight to action $a$ in state $s$ in proportion to the value $G(\\tau)$ of the trajectory they belong too.   \n",
    "In even simpler words: if a trajectory was better than another, its action probabilities should be reinforced (hence the name of the algorithm).\n",
    "\n",
    "The next section will focus on implementing this algorithm (almost), but for now let us finish deriving the policy gradient theorem."
   ]
  },
  {
   "cell_type": "markdown",
   "id": "f0190d84-c24c-4648-809d-717556ac60c5",
   "metadata": {},
   "source": [
    "**Remark 4: the expected grad-log-prob lemma.**  \n",
    "Let us take a step aside and consider the expectation of $\\nabla_\\theta \\log \\pi_\\theta(a|s)$.  \n",
    "Let's simplify the notation and consider a generic probability density function $\\pi_\\theta(x)$. Then:\n",
    "In a given $s$:\n",
    "\\begin{align}\n",
    "\\mathbb{E}_{a\\sim \\pi_\\theta(s)} [ \\nabla_\\theta \\log \\pi_\\theta(x) ] &= \\int_A \\pi_\\theta(a|s) \\nabla_\\theta \\log \\pi_\\theta(a|s) da\\\\\n",
    " &= \\int_A \\pi_\\theta(a|s) da\\\\\n",
    " &= \\nabla_\\theta \\int_A \\pi_\\theta(a|s) da\\\\\n",
    " &= \\nabla_\\theta 1\\\\\n",
    " &= 0\n",
    "\\end{align}\n",
    "So we get that: \n",
    "$$\\mathbb{E}_{\\substack{s\\sim\\rho^\\pi \\\\ a\\sim \\pi}} \\left[ \\nabla_\\theta \\log \\pi_\\theta(a|s) \\right] = \\mathbb{E}_{s\\sim\\rho^\\pi} \\left[ \\mathbb{E}_{a\\sim \\pi} \\left[ \\nabla_\\theta \\log \\pi_\\theta(a|s) \\right] \\right] = \\mathbb{E}_{s\\sim\\rho^\\pi} [0]=  0.$$\n",
    "Actually, we can generalize this immediately: we can multiply $\\nabla_\\theta \\log \\pi_\\theta(a|s)$ by anything that does not depend on $a$ and obtain the same result:\n",
    "$$\\mathbb{E}_{\\substack{s\\sim\\rho^\\pi \\\\ a\\sim \\pi}} \\left[ b(s)\\left[ \\nabla_\\theta \\log \\pi_\\theta(a|s) \\right] \\right] = 0.$$\n",
    "This will come in handy in a future section about baselines in policy gradients and will serve as a basis for the exercise on [Generalized Advantage Estimation (Schulman et al., 2016)](https://arxiv.org/abs/1506.02438), but for now it will help us finish proving the policy gradient theorem."
   ]
  },
  {
   "cell_type": "markdown",
   "id": "9e1f927a-89bb-430c-ae15-d31386759126",
   "metadata": {},
   "source": [
    "**Obtaining the policy gradient theorem**  \n",
    "Recall that for a $\\gamma$ discounted criterion:\n",
    "$$G(\\tau) = \\sum_{t'=0}^\\infty \\gamma^{t'} r_{t'}.$$\n",
    "Let us consider a given time step $t$, at which a certain $(s,a)$ is encountered in $\\tau$. Then:\n",
    "$$G(\\tau) = \\sum_{t'=0}^{t-1} \\gamma^{t'} r_{t'} + \\sum_{t'=t}^\\infty \\gamma^{t'} r_{t'}.$$\n",
    "Then we have:\n",
    "\\begin{align*}\n",
    "\\nabla_\\theta J(\\theta) &= \\mathbb{E}_{\\substack{s\\sim\\rho^\\pi \\\\ a\\sim \\pi}} \\left[ G(\\tau) \\nabla_\\theta \\log \\pi_\\theta(a|s) \\right],\\\\\n",
    " &= \\mathbb{E}_{\\substack{s\\sim\\rho^\\pi \\\\ a\\sim \\pi}} \\left[ \\left[\\sum_{t'=0}^{t-1} \\gamma^{t'} r_{t'} + \\sum_{t'=t}^\\infty \\gamma^{t'} r_{t'} \\right] \\nabla_\\theta \\log \\pi_\\theta(a|s) \\right].\n",
    "\\end{align*}\n",
    "Since $t$ is the time of occurence of $(s,a)$ in $\\tau$, the first sum $\\sum_{t'=0}^{t-1} \\gamma^{t'} r_{t'}$ does not depend on $a$. Consequently (thanks to the last remark):\n",
    "$$\\mathbb{E}_{\\substack{s\\sim\\rho^\\pi \\\\ a\\sim \\pi}} \\left[ \\left[\\sum_{t'=0}^{t-1} \\gamma^{t'} r_{t'} \\right] \\nabla_\\theta \\log \\pi_\\theta(a|s) \\right] = 0.$$\n",
    "\n",
    "In other words, any reward obtained before action $a$ is taken should not participate in reinforcing the probability of $a$ in $s$. This seems rather intuitive: an action should be reinforced only based on its consequences, not on rewards acquired before taking the action.\n",
    "\n",
    "So, since $Q^\\pi(s,a) = \\mathbb{E} [ \\sum_{t'=t}^\\infty \\gamma^{t'} r_{t'} | S_t=s, A_t=a, \\theta]$, we finally obtain the policy gradient:\n",
    "$$\\nabla_\\theta J(\\theta) \\propto \\mathbb{E}_{\\substack{s\\sim\\rho^\\pi \\\\ a\\sim \\pi}} \\left[ Q^\\pi(s,a) \\nabla_\\theta \\log\\pi(a|s)\\right].$$"
   ]
  },
  {
   "cell_type": "markdown",
   "id": "bf82ad47-a819-4361-b92c-80889cf17f30",
   "metadata": {},
   "source": [
    "**Interpretation**  \n",
    "Let us rephrase and refine the previous interpretation.  \n",
    "Consider a fixed $s$. Then (again) $\\nabla_\\theta \\log \\pi(a|s)$ is the answer to \"in what direction should I change $\\theta$ to increase the log probability of taking action $a$ in $s$?\".   \n",
    "The policy gradient theorem tells us that in order to improve the value of $\\pi_\\theta$, we should change $\\theta$ in a direction that is a linear combination of all $\\nabla_\\theta \\pi(a|s)$, giving more weight to actions that provide a large $Q^\\pi(s,a)$. \n",
    "\n",
    "We can push the interpretation of $\\nabla_\\theta \\log \\pi(a|s) = \\frac{\\nabla_\\theta \\pi(a|s)}{\\pi(a|s)}$ a bit further. $\\nabla_\\theta \\pi(a_t|s_t)$ is a vector in parameter space that points in the direction of greatest increase of $\\pi(a|s)$. The update will encourage taking a step in this direction if the action provided high return (through $Q(s,a)$), but moving in this direction will be moderated if the action is already picked frequently (through $\\pi(a|s)$) so that other actions have a chance also."
   ]
  },
  {
   "cell_type": "markdown",
   "id": "7b455538-de3b-4b9b-a4e5-1783f3dd7acd",
   "metadata": {},
   "source": [
    "# REINFORCE\n",
    "\n",
    "Recall the policy gradient theorem:\n",
    "<div class=\"alert alert-success\">\n",
    "\n",
    "**Policy gradient**  \n",
    "$$\\nabla_\\theta J(\\theta) \\propto \\mathbb{E}_{\\substack{s\\sim\\rho^\\pi \\\\ a\\sim \\pi}} \\left[ Q^\\pi(s,a) \\nabla_\\theta \\log\\pi(a|s)\\right]$$\n",
    "</div>\n",
    "\n",
    "So, to compute the gradient, we can run the policy within the environment, and this will provide us with states distributed according to $\\rho^\\pi$ and actions distributed according to $\\pi$. The full trajectory of states-actions-rewards provides a Monte Carlo estimate $G_t$ of $Q^\\pi(s_t,a_t)$ from any state $s_t$ traversed by the trajectory. In turn, this allows to estimate $Q^\\pi(s_t,a_t) \\nabla_\\theta \\log \\pi(a_t|s_t)$ for any of these states. The sum over all states provides the gradient estimate.\n",
    "\n",
    "This algorithm, introduced by [Williams (1992)](https://link.springer.com/article/10.1007/BF00992696) is called REINFORCE. It requires a finite-length trajectory and its pseudo-code goes as follows.\n",
    "1. Initialize policy parameter $\\theta$\n",
    "2. Generate a trajectory by playing $\\pi$: $s_0,a_0,r_0,...s_{T}$\n",
    "3. For $t\\in [1, 2, … , T]$:\n",
    "    1. Estimate return $G_t$\n",
    "    2. Update policy parameter: $\\theta \\leftarrow \\theta + \\alpha \\gamma^t G_t \\nabla_\\theta \\log \\pi(a_t|s_t)$"
   ]
  },
  {
   "cell_type": "markdown",
   "id": "d01b69a0-10b7-44a1-8ae1-2f6bf2236170",
   "metadata": {},
   "source": [
    "Modern deep learning libraries don't take gradients as inputs. Instead, they use automated differentiation to compute them for a given expression, given a batch of samples. So we would like to build an objective function such that its gradient estimated on the minibatch composed of the last trajectory's samples $(s,a)$ corresponds to the expression above.\n",
    "\n",
    "So we want to define $\\ell(\\theta)$ such that $-\\nabla_\\theta \\mathbb{E}_{\\substack{s\\sim\\rho^\\pi \\\\ a\\sim \\pi}} \\left[ \\ell(\\theta,s,a) \\right]$ coincides with $\\nabla_\\theta J(\\theta)$. Note that, computationally, the $G_t$ terms are just coefficients in the gradient estimate. So, very simply, taking $\\ell(\\theta) = Q(s,a)\\cdot \\nabla_\\theta \\log \\pi(a|s)$ achieves this goal as long as $Q(s,a)$ is an unbiased estimate of $Q^\\pi(s,a)$. \n",
    "\n",
    "**Super important remark: the loss is not a performance metric.**  \n",
    "In supervised learning, it is a common practice to monitor the empirical risk along training. \n",
    "But $L(\\theta) = -\\mathbb{E}_{\\substack{s\\sim\\rho^\\pi \\\\ a\\sim \\pi}} \\left[ \\ell(\\theta,s,a) \\right]$ is not comparable to the losses one usually encounters in supervised learning in any way!  \n",
    "In particular, $-L(\\theta) \\neq J(\\theta)$. So it makes absolutely no sense monitoring the value of this artificial \"loss\" function along training, and even less interpreting its value as some performance metric. It is *just* an expression whose gradient coincides with the (opposite of the) policy gradient.\n",
    "\n",
    "**On sample efficiency.**  \n",
    "One key feature of policy gradient algorithms is that they are on-policy: they require the data to have been collected by the current policy, and discard this data once a gradient step is taken. Although this might seem sample inefficient, it can turn out to be an acceptable compromise if the policy gradient steps take the policy towards good returns quickly enough."
   ]
  },
  {
   "cell_type": "markdown",
   "id": "91550080-e2b1-44d0-817b-8b78580fa619",
   "metadata": {},
   "source": [
    "Let's implement REINFORCE for discrete action spaces.\n",
    "<div class=\"alert alert-warning\">\n",
    "    \n",
    "**Exercise:**  \n",
    "Declare a neural networks approximator for a categorical distribution for $\\pi(a|s)$.  \n",
    "The `forward` method should output action probabilities.  \n",
    "Define a `sample_action` method that draws from the actions probabilities in state $s$.  \n",
    "Define a `log_prob` method that returns the log probability of an $(s,a)$ pair.\n",
    "</div>"
   ]
  },
  {
   "cell_type": "code",
   "execution_count": 3,
   "id": "77f71429-6009-4ad3-842d-7ce51919a13a",
   "metadata": {},
   "outputs": [],
   "source": [
    "import torch\n",
    "import torch.nn as nn\n",
    "import torch.nn.functional as F\n",
    "from torch.distributions import Categorical\n",
    "\n",
    "device = torch.device(\"cuda\" if torch.cuda.is_available() else \"cpu\")\n",
    "\n",
    "class policyNetwork(nn.Module):\n",
    "    def __init__(self, env):\n",
    "        super().__init__()\n",
    "        state_dim = env.observation_space.shape[0]\n",
    "        n_action = env.action_space.n\n",
    "        self.fc1 = nn.Linear(state_dim, 128)\n",
    "        self.fc2 = nn.Linear(128, n_action)\n",
    "\n",
    "    def forward(self, x):\n",
    "        if x.dim() == 1:\n",
    "            x = x.unsqueeze(dim=0)\n",
    "        x = F.relu(self.fc1(x))\n",
    "        action_scores = self.fc2(x)\n",
    "        return F.softmax(action_scores,dim=1)\n",
    "\n",
    "    def sample_action(self, x):\n",
    "        probabilities = self.forward(x)\n",
    "        action_distribution = Categorical(probabilities)\n",
    "        return action_distribution.sample().item()\n",
    "\n",
    "    def log_prob(self, x, a):\n",
    "        probabilities = self.forward(x)\n",
    "        action_distribution = Categorical(probabilities)\n",
    "        return action_distribution.log_prob(a)"
   ]
  },
  {
   "cell_type": "markdown",
   "id": "57f4dd14-c15b-4937-8c5f-90511d27b57e",
   "metadata": {},
   "source": [
    "<div class=\"alert alert-warning\">\n",
    "    \n",
    "**Exercise:**  \n",
    "Define a class that implements REINFORCE. Instead of drawing a single trajectory as in the pseudo-code above, include an option to draw several trajectories with the same policy. This will better reflect $\\rho^\\pi$ and provide less noisy gradients.\n",
    "</div>"
   ]
  },
  {
   "cell_type": "code",
   "execution_count": 11,
   "id": "760f6951-aba0-42e5-9fd8-ff3bfd43a6ec",
   "metadata": {},
   "outputs": [],
   "source": [
    "import numpy as np\n",
    "import torch\n",
    "import torch.nn as nn\n",
    "import torch.nn.functional as F\n",
    "from tqdm import trange\n",
    "\n",
    "class reinforce_agent:\n",
    "    def __init__(self, config, policy_network):\n",
    "        self.device = \"cuda\" if next(policy_network.parameters()).is_cuda else \"cpu\"\n",
    "        self.scalar_dtype = next(policy_network.parameters()).dtype\n",
    "        self.policy = policy_network\n",
    "        self.gamma = config['gamma'] if 'gamma' in config.keys() else 0.99\n",
    "        lr = config['learning_rate'] if 'learning_rate' in config.keys() else 0.001\n",
    "        self.optimizer = torch.optim.Adam(list(self.policy.parameters()),lr=lr)\n",
    "        self.nb_episodes = config['nb_episodes'] if 'nb_episodes' in config.keys() else 1\n",
    "    \n",
    "    def one_gradient_step(self, env):\n",
    "        # run trajectories until done\n",
    "        episodes_sum_of_rewards = []\n",
    "        states = []\n",
    "        actions = []\n",
    "        returns = []\n",
    "        for ep in range(self.nb_episodes):\n",
    "            x,_ = env.reset()\n",
    "            rewards = []\n",
    "            episode_cum_reward = 0\n",
    "            while(True):\n",
    "                a = self.policy.sample_action(torch.as_tensor(x))\n",
    "                y,r,done,trunc,_ = env.step(a)\n",
    "                states.append(x)\n",
    "                actions.append(a)\n",
    "                rewards.append(r)\n",
    "                episode_cum_reward += r\n",
    "                x=y\n",
    "                if done: \n",
    "                    # The condition above should actually be \"done or trunc\" so that we \n",
    "                    # terminate the rollout also if trunc=True.\n",
    "                    # But then, our return-to-go computation would be biased as we would \n",
    "                    # implicitly assume no rewards can be obtained after truncation, which \n",
    "                    # is wrong.\n",
    "                    # We leave it as is for now (which means we will call .step() even \n",
    "                    # after trunc=True) and will discuss it later.\n",
    "                    # Compute returns-to-go\n",
    "                    new_returns = []\n",
    "                    G_t = 0\n",
    "                    for r in reversed(rewards):\n",
    "                        G_t = r + self.gamma * G_t\n",
    "                        new_returns.append(G_t)\n",
    "                    new_returns = list(reversed(new_returns))\n",
    "                    returns.extend(new_returns)\n",
    "                    episodes_sum_of_rewards.append(episode_cum_reward)\n",
    "                    break\n",
    "        # make loss\n",
    "        returns = torch.tensor(returns)\n",
    "        log_prob = self.policy.log_prob(torch.as_tensor(np.array(states)),torch.as_tensor(np.array(actions)))\n",
    "        loss = -(returns * log_prob).mean()\n",
    "        # gradient step\n",
    "        self.optimizer.zero_grad()\n",
    "        loss.backward()\n",
    "        self.optimizer.step()\n",
    "        return np.mean(episodes_sum_of_rewards)\n",
    "\n",
    "    def train(self, env, nb_rollouts):\n",
    "        avg_sum_rewards = []\n",
    "        for ep in trange(nb_rollouts):\n",
    "            avg_sum_rewards.append(self.one_gradient_step(env))\n",
    "        return avg_sum_rewards"
   ]
  },
  {
   "cell_type": "markdown",
   "id": "41c7c7a8-3cd7-4294-aaeb-62c0f42e248f",
   "metadata": {},
   "source": [
    "<div class=\"alert alert-warning\">\n",
    "    \n",
    "**Exercise:**  \n",
    "Run your agent for 50 gradient steps on `CartPole-v1`, drawing 10 episodes at each step.  \n",
    "Experiment with another number of episodes and vary the gradient step size.\n",
    "</div>"
   ]
  },
  {
   "cell_type": "code",
   "execution_count": 12,
   "id": "51a0c209-97bd-49fd-9dad-c08d6abb3a62",
   "metadata": {},
   "outputs": [
    {
     "name": "stderr",
     "output_type": "stream",
     "text": [
      "100%|██████████| 50/50 [00:45<00:00,  1.09it/s]\n"
     ]
    },
    {
     "data": {
      "text/plain": [
       "[<matplotlib.lines.Line2D at 0x7fd2ee931700>]"
      ]
     },
     "execution_count": 12,
     "metadata": {},
     "output_type": "execute_result"
    },
    {
     "data": {
      "image/png": "[encoded data removed]",
      "text/plain": [
       "<Figure size 640x480 with 1 Axes>"
      ]
     },
     "metadata": {},
     "output_type": "display_data"
    }
   ],
   "source": [
    "import gymnasium as gym\n",
    "import matplotlib.pyplot as plt\n",
    "\n",
    "#env = gym.make(\"LunarLander-v2\", render_mode=\"rgb_array\")\n",
    "env = gym.make('CartPole-v1', render_mode=\"rgb_array\")\n",
    "config = {'gamma': .99,\n",
    "          'learning_rate': 0.01,\n",
    "          'nb_episodes': 10\n",
    "         }\n",
    "\n",
    "pi = policyNetwork(env)\n",
    "agent = reinforce_agent(config, pi)\n",
    "returns = agent.train(env,50)\n",
    "plt.plot(returns)"
   ]
  },
  {
   "cell_type": "code",
   "execution_count": 15,
   "id": "0827e2da-5f69-4723-81ab-c2be40317fcd",
   "metadata": {},
   "outputs": [
    {
     "name": "stdout",
     "output_type": "stream",
     "text": [
      "Moviepy - Building video /home/emmanuel/git_repos/RLclass_MVA/notebooks/videos/reinforce_policy-episode-0.mp4.\n",
      "Moviepy - Writing video /home/emmanuel/git_repos/RLclass_MVA/notebooks/videos/reinforce_policy-episode-0.mp4\n",
      "\n"
     ]
    },
    {
     "name": "stderr",
     "output_type": "stream",
     "text": [
      "                                                                "
     ]
    },
    {
     "name": "stdout",
     "output_type": "stream",
     "text": [
      "Moviepy - Done !\n",
      "Moviepy - video ready /home/emmanuel/git_repos/RLclass_MVA/notebooks/videos/reinforce_policy-episode-0.mp4\n"
     ]
    },
    {
     "name": "stderr",
     "output_type": "stream",
     "text": [
      "\r"
     ]
    }
   ],
   "source": [
    "import gymnasium as gym\n",
    "from gymnasium.utils.save_video import save_video\n",
    "\n",
    "#test_env = gym.make(\"LunarLander-v2\", render_mode=\"rgb_array_list\")\n",
    "test_env = gym.make(\"CartPole-v1\", render_mode=\"rgb_array_list\")\n",
    "s,_ = test_env.reset()\n",
    "with torch.no_grad():\n",
    "    for t in range(1000):\n",
    "        a = pi.sample_action(torch.as_tensor(s))\n",
    "        s2,r,d,trunc,_ = test_env.step(a)\n",
    "        s = s2\n",
    "        if d:\n",
    "            break\n",
    "\n",
    "save_video(test_env.render(), \"videos\", fps=test_env.metadata[\"render_fps\"], name_prefix=\"reinforce_policy\")"
   ]
  },
  {
   "cell_type": "code",
   "execution_count": 16,
   "id": "e8c1aed4-e7b1-45e8-af8f-19bd26157b0d",
   "metadata": {},
   "outputs": [
    {
     "data": {
      "text/html": [
       "<video src=\"videos/reinforce_policy-episode-0.mp4\" controls  >\n",
       "      Your browser does not support the <code>video</code> element.\n",
       "    </video>"
      ],
      "text/plain": [
       "<IPython.core.display.Video object>"
      ]
     },
     "execution_count": 16,
     "metadata": {},
     "output_type": "execute_result"
    }
   ],
   "source": [
    "from IPython.display import Video\n",
    "Video(\"videos/reinforce_policy-episode-0.mp4\")"
   ]
  },
  {
   "cell_type": "markdown",
   "id": "477711f2-0f4b-4375-83dc-cf35a3b7ffc5",
   "metadata": {},
   "source": [
    "**Comment on the behavior of policy gradient methods (based on the CartPole example).**\n",
    "\n",
    "One very interesting feature of policy gradient methods, compared to dynamic programming ones, is that they take a somewhat more pragmatic  and easier approach at policy improvement.\n",
    "\n",
    "Policy gradients make the policy better by reinforcing good actions in visited states, and discouraging actions that led to bad outcomes. In CartPole, this means that exiting the screen on either side will be penalized as much as falling. This happens quite early in the optimization process: as soon as the policy balances the pole, it starts to drift towards the sides of the screen, gets this negative reward, and hence reinforces actions that keep the cart within the screen (the fact that we draw several trajectories for each policy helps a lot for that matter since it enables comparing different actions and reinforcing the ones which belonged to better trajectories).\n",
    "\n",
    "Converserly, maybe you remember DQN did a great job at quickly learning how to balance the pole, but wasn't so great at avoiding drifting to the edges of the screen. The key difference is that DQN stored all past experience and that exiting from the side ended up being a rather rare situation within the replay buffer. Also, DQN needed to propagate these bad rewards through the value function (a task greatly enhanced by methods like prioritized experience replay), which is done immediately in REINFORCE because $G_t$ is a Monte Carlo estimator, not a TD(0) one.\n",
    "\n",
    "So maybe, with ADP methods, we had set up a task that was excessively difficult. The ADP approach is elegant and sample efficient (it retains a long-term memory of samples and solves for the optimal $Q$ value for *all* state and action pairs. But maybe this was more than what was necessary: a local search among policy parameters, without retaining a memory of past experience, but instead local comparison of trajectories and reinforcement of good ones, might be sufficient to achieve efficient learning."
   ]
  },
  {
   "cell_type": "markdown",
   "id": "91544b34-5c06-45d5-9424-46b4916afafc",
   "metadata": {},
   "source": [
    "<div class=\"alert alert-warning\">\n",
    "    \n",
    "**Exercise:**  \n",
    "The code above is slightly inefficient as it passes each state through the network twice: one when drawing the action (`sample_action`), the other when computing log probabilities (`log_prob`). This is not critical as the latter is a batched version of this forward pass, but still, we can optimize this a bit. Make this a bit more elegant by writing a `sample_action_and_log_prob` function in the `reinforce_agent` class, which jointly draws the action and computes its log probability, enabling storing the log probabilities along training.\n",
    "</div>"
   ]
  },
  {
   "cell_type": "code",
   "execution_count": null,
   "id": "1d797ec8-ab32-4779-86de-714055e0befc",
   "metadata": {},
   "outputs": [],
   "source": [
    "import numpy as np\n",
    "import torch\n",
    "import torch.nn as nn\n",
    "import torch.nn.functional as F\n",
    "from tqdm import trange\n",
    "\n",
    "class reinforce_agent:\n",
    "    def __init__(self, config, policy_network):\n",
    "        self.device = \"cuda\" if next(policy_network.parameters()).is_cuda else \"cpu\"\n",
    "        self.scalar_dtype = next(policy_network.parameters()).dtype\n",
    "        self.policy = policy_network\n",
    "        self.gamma = config['gamma'] if 'gamma' in config.keys() else 0.99\n",
    "        lr = config['learning_rate'] if 'learning_rate' in config.keys() else 0.001\n",
    "        self.optimizer = torch.optim.Adam(list(self.policy.parameters()),lr=lr)\n",
    "        self.nb_episodes = config['nb_episodes'] if 'nb_episodes' in config.keys() else 1\n",
    "\n",
    "    def sample_action_and_log_prob(self, x):\n",
    "        probabilities = self.policy(torch.as_tensor(x))\n",
    "        action_distribution = Categorical(probabilities)\n",
    "        action = action_distribution.sample()\n",
    "        log_prob = action_distribution.log_prob(action)\n",
    "        return action.item(), log_prob\n",
    "    \n",
    "    def one_gradient_step(self, env):\n",
    "        # run trajectories until done\n",
    "        episodes_sum_of_rewards = []\n",
    "        log_probs = []\n",
    "        returns = []\n",
    "        for ep in range(self.nb_episodes):\n",
    "            x,_ = env.reset()\n",
    "            rewards = []\n",
    "            episode_cum_reward = 0\n",
    "            while(True):\n",
    "                a, log_prob = self.sample_action_and_log_prob(x)\n",
    "                y,r,d,_,_ = env.step(a)\n",
    "                log_probs.append(log_prob)\n",
    "                rewards.append(r)\n",
    "                episode_cum_reward += r\n",
    "                x=y\n",
    "                if d:\n",
    "                    # compute returns-to-go\n",
    "                    new_returns = []\n",
    "                    G_t = 0\n",
    "                    for r in reversed(rewards):\n",
    "                        G_t = r + self.gamma * G_t\n",
    "                        new_returns.append(G_t)\n",
    "                    new_returns = list(reversed(new_returns))\n",
    "                    returns.extend(new_returns)\n",
    "                    episodes_sum_of_rewards.append(episode_cum_reward)\n",
    "                    break\n",
    "        # make loss\n",
    "        returns = torch.tensor(returns)\n",
    "        log_probs = torch.cat(log_probs)\n",
    "        loss = -(returns * log_probs).mean()\n",
    "        # gradient step\n",
    "        self.optimizer.zero_grad()\n",
    "        loss.backward()\n",
    "        self.optimizer.step()\n",
    "        return np.mean(episodes_sum_of_rewards)\n",
    "\n",
    "    def train(self, env, nb_rollouts):\n",
    "        avg_sum_rewards = []\n",
    "        for ep in trange(nb_rollouts):\n",
    "            avg_sum_rewards.append(self.one_gradient_step(env))\n",
    "        return avg_sum_rewards"
   ]
  },
  {
   "cell_type": "code",
   "execution_count": null,
   "id": "c3684a5e-5e6e-4132-9267-9745c2e46a9c",
   "metadata": {},
   "outputs": [],
   "source": [
    "import gymnasium as gym\n",
    "import matplotlib.pyplot as plt\n",
    "\n",
    "#env = gym.make(\"LunarLander-v2\", render_mode=\"rgb_array\")\n",
    "env = gym.make('CartPole-v1', render_mode=\"rgb_array\")\n",
    "config = {'gamma': .99,\n",
    "          'learning_rate': 0.01,\n",
    "          'nb_episodes': 10\n",
    "         }\n",
    "\n",
    "pi = policyNetwork(env)\n",
    "agent = reinforce_agent(config, pi)\n",
    "returns = agent.train(env,50)\n",
    "plt.plot(returns)"
   ]
  },
  {
   "cell_type": "markdown",
   "id": "5abb18f8-66b4-4d78-bbe2-7a77269774d4",
   "metadata": {},
   "source": [
    "**The problem of rollout terminations.**\n",
    "\n",
    "One weakness of REINFORCE is that it requires trajectories that terminate in finite time. This was reasonable enough in the previous example as we let the environment run until `done=True`, but this does not happen in all MDPs. Some environments have no particular termination condition. When we instantiate such environments, we generally set a time limit, but this does not constitute a termination condition, rather a trajectory truncation one. In particular, a Monte Carlo estimate of $Q^\\pi(s,a)$ based on a truncated trajectory might be very biased if $s,a$ is encountered at a time step close to the time limit.\n",
    "\n",
    "With this problem, we reach the limit of Monte Carlo evaluations. In previous chapters, to counter this problem, we have introduced value function estimators and bootstrapping (TD learning of Q-functions being the off-policy, 1-step bootstraping version)."
   ]
  },
  {
   "cell_type": "markdown",
   "id": "bb015050-8c21-4bb6-81b0-91a9fb0e4869",
   "metadata": {},
   "source": [
    "# Actor-critic algorithms\n",
    "\n",
    "## Introducing a critic\n",
    "\n",
    "Recall that REINFORCE uses a Monte Carlo estimate of the policy gradient. With a slight notation abuse, we have:\n",
    "<div class=\"alert alert-success\">\n",
    "\n",
    "**REINFORCE:**\n",
    "$$\\tilde{\\nabla}_\\theta J(\\theta) = \\mathbb{E}_{\\substack{s\\sim\\rho^\\pi \\\\ a\\sim \\pi}} \\left[ G_t \\nabla_\\theta \\log\\pi(a|s)\\right]$$\n",
    "</div>\n",
    "\n",
    "**Actor-critic algorithms**  \n",
    "Suppose now that we don't want a Monte Carlo estimate of $Q^\\pi(s,a)$ in the Policy Gradient theorem, and are rather willing to store a function approximator $Q_w$ for $Q^\\pi(s,a)$. This leads us to store both a policy $\\pi_\\theta$ and a value function $Q_w$. The value function *criticizes* the policy's selected actions by assigning numerical values to them, hence the names of *critic* and *actor*. So actor-critic algorithms are policy gradient algorithms that use an actor-critic architecture (remember: the opposite is not necessarily true).\n",
    "\n",
    "The $Q_w$ function of the critic can be learned as a risk minimization problem (eg. a least squares fitting problem), using temporal differences. Note that although this learning is off-policy, the data collection for the application of the policy gradient theorem still requires on-policy data.\n",
    "\n",
    "This defines the Q actor-critic algorithm:\n",
    "<div class=\"alert alert-success\">\n",
    "\n",
    "**Q actor-critic:**\n",
    "$$\\tilde{\\nabla}_\\theta J(\\theta) = \\mathbb{E}_{\\substack{s\\sim\\rho^\\pi \\\\ a\\sim \\pi}} \\left[ Q_w(s,a) \\nabla_\\theta \\log\\pi(a|s)\\right]$$\n",
    "</div>"
   ]
  },
  {
   "cell_type": "markdown",
   "id": "74dc73ca-7b56-47d2-94ed-967e8fcb34c7",
   "metadata": {},
   "source": [
    "## Baselines in policy gradients\n",
    "\n",
    "Using estimators of $Q^\\pi$ in the application of the policy gradient theorem yields gradient estimates which often have a high variance. Following the expected grad-log-prob lemma, a common practice consists in substracting an action-independent *baseline* $b(s)$ from the estimate of $Q^\\pi(s,a)$, yielding:\n",
    "$$\\nabla_\\theta J(\\theta) \\propto \\mathbb{E}_{\\substack{s\\sim\\rho^\\pi \\\\ a\\sim \\pi}} \\left[ \\left( Q^\\pi(s,a) -b(s) \\right) \\nabla_\\theta \\log\\pi(a|s)\\right].$$\n",
    "\n",
    "It is rather easy to remark that this baseline does not affect the gradient estimate since it's expected value is zero (thanks to the expected grad-log-prob lemma). However it can contribute to strongly decrease the estimate's variance. One common choice for such a baseline is the policy's value function $V^\\pi$. This introduces an *advantage* estimation problem within policy gradient algorithms, where the advantage is the function defined as:\n",
    "$$A^\\pi(s,a) = Q^\\pi(s,a) - V^\\pi(s).$$\n",
    "\n",
    "Remember that $Q^\\pi(s,a) = \\mathbb{E}_{s'\\sim p(s,a)} [r(s,a,s') + \\gamma V^\\pi(s')]$. So, given a sample $(s,a,r,s')$, a sample estimate of the advantage function is $r + \\gamma V^\\pi(s') - V^\\pi(s)$. So learning $V^\\pi$ provides a way to obtain sample estimates of the advantage function.\n",
    "\n",
    "This yields the advantage actor critic algorithm:\n",
    "<div class=\"alert alert-success\">\n",
    "\n",
    "**Advantage actor-critic:**\n",
    "$$\\tilde{\\nabla}_\\theta J(\\theta) = \\mathbb{E}_{\\substack{s\\sim\\rho^\\pi \\\\ a\\sim \\pi}} \\left[ A_w(s,a) \\nabla_\\theta \\log\\pi(a|s)\\right]$$\n",
    "$$\\tilde{\\nabla}_\\theta J(\\theta) = \\mathbb{E}_{\\substack{s\\sim\\rho^\\pi \\\\ a\\sim \\pi}} \\left[ \\mathbb{E}_{s'\\sim p(s,a)} \\left[r(s,a,s') + \\gamma V_w(s') - V_w(s)\\right] \\nabla_\\theta \\log\\pi(a|s)\\right]$$\n",
    "</div>"
   ]
  },
  {
   "cell_type": "markdown",
   "id": "8daa9795-dd0b-4912-8b62-3b7ed16d7c79",
   "metadata": {},
   "source": [
    "Remark that the temporal difference at each time step $\\delta = r + \\gamma V^\\pi(s') - V^\\pi(s)$ is an estimate of the advantage $A^\\pi(s,a)$. Using this remark, a simple one-step advantage actor-critic method based on TD(0) and a value function $V_w$ goes as follows:\n",
    "1. In $s$, draw $a \\sim \\pi$\n",
    "2. Observe $r, s'$\n",
    "3. Compute $\\delta = r + \\gamma V_w(s') - V_w(s)$\n",
    "4. Update critic's parameters (TD(0) step) $w \\leftarrow w + \\alpha \\delta \\nabla_w V_w(s)$\n",
    "5. Update actor's parameters (policy gradient theorem) $\\theta \\leftarrow \\theta + \\alpha \\delta \\nabla_\\theta \\log \\pi(a|s)$\n",
    "6. $s\\leftarrow s'$ and repeat\n",
    "\n",
    "This directly translates into a batch algorithm:\n",
    "1. Sample trajectories $\\{s_t,a_t,r_t,s'_t\\}$ from $\\pi$\n",
    "2. Fit $V_w$ to the (bootstrapped) returns $r_t + \\gamma V_w(s'_t)$\n",
    "3. Get advantage $A(s_t,a_t) = r_t + \\gamma V_w(s'_t) - V_w(s_t)$\n",
    "4. Update policy using ascent direction $\\sum_t A(s_t,a_t) \\nabla_\\theta \\log \\pi(a_t|s_t)$\n",
    "\n",
    "An interesting feature of this algorithm is that it does not require to store experience samples from past policies. Since fitting of $V_w$ is an on-policy problem, it operates on the last collected batch of samples and does not retain the experience replay buffers we encountered with ADP methods.\n",
    "\n",
    "To reduce the bias in learning $V_w$, instead of one-step targets $r_t + \\gamma V_w(s'_t)$, one can store and use n-step returns $\\sum_{t'=t}^{t+n-1} \\gamma^{t'-t} r_{t'} + \\gamma^{n} V_w(s'_{t+n-1})$ for each $s_i$."
   ]
  },
  {
   "cell_type": "markdown",
   "id": "514bc5cb-278a-4a72-a51f-51ba17acf2c0",
   "metadata": {},
   "source": [
    "## A2C: Deep Advantage Actor-Critic\n",
    "\n",
    "In 2016, Mnih et al. introduced a set of algorithms using asynchronous environments in the **[Asynchronous Methods for Deep Reinforcement Learning](https://arxiv.org/abs/1602.01783)** paper. Among these methods, one is called A3C for Asynchronous Advantage Actor-Critic. \n",
    "In a nutshell, A3C is an advantage actor-critic method where multiple policy workers in parallel environments independently update a global value function. One supposed key benefit of having asynchronous actors was to promote exploration of the state space. It later turned out, the full asynchronicity of independent policies did not bring a significant performance advantage while inducing some computational overhead. A2C is A3C's little sibling, using a single (hence synchronous) policy.\n",
    "\n",
    "At each policy update step, A2C runs a number of rollouts with $\\pi_\\theta$, collecting samples.\n",
    "\n",
    "It uses bootstrapped Monte Carlo returns to estimate the advantage in each state-action pair:\n",
    "$$A(s_t,a_t;w) = \\sum_{t'=t}^{T-1} \\gamma^{t'-t} r_{t'} + \\gamma^{T-t} V_w(s_{t+T}) - V_w(s_t),$$\n",
    "where $T$ is the termination time of a rollout.\n",
    "\n",
    "The value function learning takes a gradient step to minimize:\n",
    "$$L(w) = \\sum_t A(s_t,a_t;w)^2.$$\n",
    "\n",
    "The policy learning step takes a gradient step to maximize:\n",
    "$$L(\\theta)=\\sum_t \\left[ A(s_t,a_t;w) \\nabla_\\theta \\log \\pi_\\theta(a_t|s_t) + \\beta \\nabla_\\theta \\mathcal{H}(\\pi_\\theta(s_t) \\right].$$\n",
    "The first term in this sum is the usual policy gradient. The second one is the entropy of the policy. The intention is to promote exploration by retaining randomness in the policy.\n",
    "\n",
    "So, in short, A2C's pseudo code is:\n",
    "1. Collect trajectories $\\{s_t,a_t,r_t,s'_t\\}$ from $\\pi$\n",
    "2. Define $A(s_t,a_t;w) = \\sum_{t'=t}^{T-1} \\gamma^{t'-t} r_{t'} + \\gamma^{T-t} V_w(s_{t+T}) - V_w(s_t)$\n",
    "3. Take a gradient descent step on $L(w)$ and a gradient ascent step on $L(\\theta)$.\n",
    "\n",
    "<div class=\"alert alert-warning\">\n",
    "    \n",
    "**Exercise:**  \n",
    "Declare a critic network.\n",
    "</div>"
   ]
  },
  {
   "cell_type": "code",
   "execution_count": 17,
   "id": "4b99bdc1-fa2c-4fe0-b670-42c3d44b471d",
   "metadata": {},
   "outputs": [],
   "source": [
    "import torch\n",
    "import torch.nn as nn\n",
    "import torch.nn.functional as F\n",
    "from torch.distributions import Categorical\n",
    "\n",
    "device = torch.device(\"cuda\" if torch.cuda.is_available() else \"cpu\")\n",
    "\n",
    "class valueNetwork(nn.Module):\n",
    "    def __init__(self, env):\n",
    "        super().__init__()\n",
    "        state_dim = env.observation_space.shape[0]\n",
    "        n_action = env.action_space.n\n",
    "        self.fc1 = nn.Linear(state_dim, 128)\n",
    "        self.fc2 = nn.Linear(128, 1)\n",
    "\n",
    "    def forward(self, x):\n",
    "        if x.dim() == 1:\n",
    "            x = x.unsqueeze(dim=0)\n",
    "        x = F.relu(self.fc1(x))\n",
    "        return self.fc2(x)"
   ]
  },
  {
   "cell_type": "markdown",
   "id": "f171a971-6013-4701-bcf1-369f5663118a",
   "metadata": {},
   "source": [
    "<div class=\"alert alert-warning\">\n",
    "    \n",
    "**Exercise:**  \n",
    "Implement an A2C algorithm.\n",
    "</div>"
   ]
  },
  {
   "cell_type": "code",
   "execution_count": 18,
   "id": "6c5078d5-8092-47ad-84ac-d3e99dc19926",
   "metadata": {},
   "outputs": [],
   "source": [
    "import numpy as np\n",
    "import torch\n",
    "import torch.nn as nn\n",
    "import torch.nn.functional as F\n",
    "from tqdm import trange\n",
    "\n",
    "class a2c_agent:\n",
    "    def __init__(self, config, policy_network, value_network):\n",
    "        self.device = \"cuda\" if next(policy_network.parameters()).is_cuda else \"cpu\"\n",
    "        self.scalar_dtype = next(policy_network.parameters()).dtype\n",
    "        self.policy = policy_network\n",
    "        self.value = value_network\n",
    "        self.gamma = config['gamma'] if 'gamma' in config.keys() else 0.99\n",
    "        lr = config['learning_rate'] if 'learning_rate' in config.keys() else 0.001\n",
    "        self.optimizer = torch.optim.Adam(list(self.policy.parameters()) + list(self.value.parameters()),lr=lr)\n",
    "        self.nb_episodes = config['nb_episodes'] if 'nb_episodes' in config.keys() else 1\n",
    "        self.entropy_coefficient = config['entropy_coefficient'] if 'entropy_coefficient' in config.keys() else 0.001\n",
    "\n",
    "    def sample_action(self, x):\n",
    "        probabilities = self.policy(torch.as_tensor(x))\n",
    "        action_distribution = Categorical(probabilities)\n",
    "        action = action_distribution.sample()\n",
    "        log_prob = action_distribution.log_prob(action)\n",
    "        entropy = action_distribution.entropy()\n",
    "        return action.item(), log_prob, entropy\n",
    "    \n",
    "    def one_gradient_step(self, env):\n",
    "        # run trajectories until done\n",
    "        episodes_sum_of_rewards = []\n",
    "        log_probs = []\n",
    "        returns = []\n",
    "        values = []\n",
    "        entropies = []\n",
    "        for ep in range(self.nb_episodes):\n",
    "            x,_ = env.reset()\n",
    "            rewards = []\n",
    "            episode_cum_reward = 0\n",
    "            while(True):\n",
    "                a, log_prob, entropy = self.sample_action_and_log_prob(x)\n",
    "                y,r,d,_,_ = env.step(a)\n",
    "                values.append(self.value(x))\n",
    "                log_probs.append(log_prob)\n",
    "                entropies.append(entropy)\n",
    "                rewards.append(r)\n",
    "                episode_cum_reward += r\n",
    "                x=y\n",
    "                if d:\n",
    "                    # compute returns-to-go\n",
    "                    new_returns = []\n",
    "                    G_t = self.value(x)\n",
    "                    for r in reversed(rewards):\n",
    "                        G_t = r + self.gamma * G_t\n",
    "                        new_returns.append(G_t)\n",
    "                    new_returns = list(reversed(new_returns))\n",
    "                    returns.extend(new_returns)\n",
    "                    episodes_sum_of_rewards.append(episode_cum_reward)\n",
    "                    break\n",
    "        # make loss\n",
    "        returns = torch.cat(returns)\n",
    "        values = torch.cat(values)\n",
    "        log_probs = torch.cat(log_probs)\n",
    "        entropies = torch.cat(entropies)\n",
    "        advantages = returns - values\n",
    "        pg_loss = -(advantages.detach() * log_probs).mean()\n",
    "        entropy_loss = -entropies.mean()\n",
    "        critic_loss = advantages.pow(2).mean()\n",
    "        loss = pg_loss + critic_loss + self.entropy_coefficient * entropy_loss\n",
    "        # gradient step\n",
    "        self.optimizer.zero_grad()\n",
    "        loss.backward()\n",
    "        self.optimizer.step()\n",
    "        return np.mean(episodes_sum_of_rewards)\n",
    "\n",
    "    def train(self, env, nb_rollouts):\n",
    "        avg_sum_rewards = []\n",
    "        for ep in trange(nb_rollouts):\n",
    "            avg_sum_rewards.append(self.one_gradient_step(env))\n",
    "        return avg_sum_rewards"
   ]
  },
  {
   "cell_type": "code",
   "execution_count": 19,
   "id": "cd5ea381-f556-4177-8864-228ffcf17e6d",
   "metadata": {},
   "outputs": [
    {
     "name": "stderr",
     "output_type": "stream",
     "text": [
      "100%|██████████| 50/50 [00:51<00:00,  1.04s/it]\n"
     ]
    },
    {
     "data": {
      "text/plain": [
       "[<matplotlib.lines.Line2D at 0x7fd2ee1eaa90>]"
      ]
     },
     "execution_count": 19,
     "metadata": {},
     "output_type": "execute_result"
    },
    {
     "data": {
      "image/png": "[encoded data removed]",
      "text/plain": [
       "<Figure size 640x480 with 1 Axes>"
      ]
     },
     "metadata": {},
     "output_type": "display_data"
    }
   ],
   "source": [
    "import gymnasium as gym\n",
    "import matplotlib.pyplot as plt\n",
    "\n",
    "#env = gym.make(\"LunarLander-v2\", render_mode=\"rgb_array\")\n",
    "env = gym.make('CartPole-v1', render_mode=\"rgb_array\")\n",
    "config = {'gamma': .99,\n",
    "          'learning_rate': 0.01,\n",
    "          'nb_episodes': 10,\n",
    "          'entropy_coefficient': 1e-3\n",
    "         }\n",
    "\n",
    "pi = policyNetwork(env)\n",
    "agent = reinforce_agent(config, pi)\n",
    "returns = agent.train(env,50)\n",
    "plt.plot(returns)"
   ]
  },
  {
   "cell_type": "code",
   "execution_count": 21,
   "id": "3aac837a-0fe2-4a07-9df1-e0d29e642f1d",
   "metadata": {},
   "outputs": [
    {
     "name": "stdout",
     "output_type": "stream",
     "text": [
      "Moviepy - Building video /home/emmanuel/git_repos/RLclass_MVA/notebooks/videos/reinforce_policy-episode-0.mp4.\n",
      "Moviepy - Writing video /home/emmanuel/git_repos/RLclass_MVA/notebooks/videos/reinforce_policy-episode-0.mp4\n",
      "\n"
     ]
    },
    {
     "name": "stderr",
     "output_type": "stream",
     "text": [
      "                                                               "
     ]
    },
    {
     "name": "stdout",
     "output_type": "stream",
     "text": [
      "Moviepy - Done !\n",
      "Moviepy - video ready /home/emmanuel/git_repos/RLclass_MVA/notebooks/videos/reinforce_policy-episode-0.mp4\n"
     ]
    },
    {
     "name": "stderr",
     "output_type": "stream",
     "text": [
      "\r"
     ]
    }
   ],
   "source": [
    "import gymnasium as gym\n",
    "from gymnasium.utils.save_video import save_video\n",
    "\n",
    "#test_env = gym.make(\"LunarLander-v2\", render_mode=\"rgb_array_list\")\n",
    "test_env = gym.make(\"CartPole-v1\", render_mode=\"rgb_array_list\")\n",
    "s,_ = test_env.reset()\n",
    "with torch.no_grad():\n",
    "    for t in range(1000):\n",
    "        a = pi.sample_action(torch.as_tensor(s))\n",
    "        s2,r,d,trunc,_ = test_env.step(a)\n",
    "        s = s2\n",
    "        if d:\n",
    "            break\n",
    "\n",
    "save_video(test_env.render(), \"videos\", fps=test_env.metadata[\"render_fps\"], name_prefix=\"reinforce_policy\")"
   ]
  },
  {
   "cell_type": "code",
   "execution_count": 22,
   "id": "c871de74-b3af-49dc-85bd-d0dc5a655915",
   "metadata": {},
   "outputs": [
    {
     "data": {
      "text/html": [
       "<video src=\"videos/reinforce_policy-episode-0.mp4\" controls  >\n",
       "      Your browser does not support the <code>video</code> element.\n",
       "    </video>"
      ],
      "text/plain": [
       "<IPython.core.display.Video object>"
      ]
     },
     "execution_count": 22,
     "metadata": {},
     "output_type": "execute_result"
    }
   ],
   "source": [
    "from IPython.display import Video\n",
    "Video(\"videos/reinforce_policy-episode-0.mp4\")"
   ]
  },
  {
   "cell_type": "code",
   "execution_count": null,
   "id": "36835dbd-1ea5-4b33-9f3c-b2a28a3c4adc",
   "metadata": {},
   "outputs": [],
   "source": []
  },
  {
   "cell_type": "code",
   "execution_count": null,
   "id": "033998fa-de4c-4a1a-965c-73e69f9c37ed",
   "metadata": {},
   "outputs": [],
   "source": []
  },
  {
   "cell_type": "code",
   "execution_count": null,
   "id": "e41bb3df-2282-4933-b212-aa1fd8d611ea",
   "metadata": {},
   "outputs": [],
   "source": []
  },
  {
   "cell_type": "markdown",
   "id": "ca8712de-db1a-43a6-9d5c-c90d1741b5fb",
   "metadata": {},
   "source": [
    "# TRPO"
   ]
  },
  {
   "cell_type": "markdown",
   "id": "c43c7b87-6d9a-4a2b-ac8e-1c942d251978",
   "metadata": {},
   "source": [
    "# Homework"
   ]
  },
  {
   "cell_type": "markdown",
   "id": "52f87e89-dbbc-4b1a-af70-c339ce26d137",
   "metadata": {},
   "source": [
    "## Running rollouts in parallel\n",
    "\n",
    "One key feature of policy gradient algorithms is that they are on-policy: they require the data to have been collected by the current policy, and discard this data once a gradient step is taken. Although this might seem sample inefficient, it can turn out to be an acceptable compromise if the policy gradient steps take the policy towards good returns quickly enough.\n",
    "\n",
    "A direct consequence of this on-policy property, is that policy gradients don't use experience replay buffers. Instead, they can take advantage of parallel computation to collect samples. We saw that running several rollouts with the same policy greatly helped in reducing the gradient's variance.\n",
    "\n",
    "<div class=\"alert alert-warning\">\n",
    "    \n",
    "**Exercise:**  \n",
    "Gymnasium provides a [vectorized environments](https://gymnasium.farama.org/api/vector/) class, which enables running multiple independent copies of the same environment in parallel, for a certain number of steps. Modify the REINFORCE and A2C classes to use a vector of environments.\n",
    "</div>"
   ]
  },
  {
   "cell_type": "code",
   "execution_count": null,
   "id": "5452a578-77e7-4b2e-9a2a-677391d41f71",
   "metadata": {},
   "outputs": [],
   "source": [
    "# DEMO CODE OF VECTORIZED ENVIRONMENTS\n",
    "import gymnasium as gym\n",
    "import numpy as np\n",
    "\n",
    "## Make vector env and simulate one step\n",
    "#envs = gym.vector.make(\"CartPole-v1\", num_envs=10)\n",
    "envs = gym.make_vec(\"CartPole-v1\", num_envs=10)\n",
    "## Reset all environments\n",
    "states, _ = envs.reset(seed=42)\n",
    "#print(states)\n",
    "## Choose actions\n",
    "actions = envs.action_space.sample()\n",
    "#print(actions)\n",
    "## Step\n",
    "next_states, rewards, termination, truncation, infos = envs.step(actions)\n",
    "#print(observations)\n",
    "#print(infos)\n",
    "\n",
    "## Warning, when an environment terminates or is truncated, it automatically resets \n",
    "## so that you can keep calling .step() and it does not wait idly until others have \n",
    "## finished.\n",
    "## When this happens, the next state returned by .step() is the result of the reset\n",
    "## and the last state of the previous trajectory is accessed through the \n",
    "## infos['final_observation'] variable.\n",
    "## This also means you cannot use the termination or truncation flags anymore to run \n",
    "## post-trajectories computations.\n",
    "\n",
    "states = next_states\n",
    "for t in range(50):\n",
    "    actions = envs.action_space.sample()\n",
    "    next_states, rewards, termination, truncation, infos = envs.step(actions)\n",
    "    if any(termination):\n",
    "        index = np.where(termination == True)\n",
    "        print(\"Termination vector:\", termination, index)\n",
    "        index = index[0][0]\n",
    "        print(\"Env\", index, \"has been reset! Here is the last transition:\")\n",
    "        print(\"starting state =\", states[index])\n",
    "        print(\"ending state   =\", infos['final_observation'][index])\n",
    "        print(\"reset state    =\", next_states[index])\n",
    "        break\n",
    "    states = next_states"
   ]
  },
  {
   "cell_type": "code",
   "execution_count": null,
   "id": "0fda50b5-2a62-4dd3-a8ec-374db6cac8d0",
   "metadata": {},
   "outputs": [],
   "source": [
    "#%load solutions/no_solution_yet.py"
   ]
  },
  {
   "cell_type": "code",
   "execution_count": null,
   "id": "fbf86032-a614-4552-a7f6-324e7be08002",
   "metadata": {},
   "outputs": [],
   "source": [
    "import gymnasium as gym\n",
    "import matplotlib.pyplot as plt\n",
    "\n",
    "#env = gym.make(\"LunarLander-v2\", render_mode=\"rgb_array\")\n",
    "env = gym.make('CartPole-v1', render_mode=\"rgb_array\")\n",
    "config = {'gamma': .99,\n",
    "          'learning_rate': 0.01,\n",
    "          'nb_episodes': 10,\n",
    "          'nb_sim_steps_per_update': 500\n",
    "         }\n",
    "\n",
    "pi = policyNetwork(env)\n",
    "agent = reinforce_agent(config, pi)\n",
    "returns = agent.train(env,50)\n",
    "plt.plot(returns)"
   ]
  },
  {
   "cell_type": "markdown",
   "id": "3e06d3e2-608b-4823-b6b2-a4238a7e8c5d",
   "metadata": {},
   "source": [
    "## Policy gradients on continuous action domains\n",
    "\n",
    "REINFORCE and A2C with Gaussian policies"
   ]
  },
  {
   "cell_type": "markdown",
   "id": "a6a91884-4238-4c04-87fb-fc33d6c6040e",
   "metadata": {},
   "source": [
    "## Policy gradients for the finite horizon criterion\n",
    "\n",
    "Derive the PG for the total reward, finite horizon criterion.\n",
    "\n",
    "Implement a REINFORCE algorithm."
   ]
  },
  {
   "cell_type": "markdown",
   "id": "7b11d3b9-3790-4df0-8ec5-7ea7ed265428",
   "metadata": {},
   "source": [
    "## Generalized advantage estimation\n",
    "\n",
    "[Generalized Advantage Estimation (Schulman et al., 2016)](https://arxiv.org/abs/1506.02438)"
   ]
  },
  {
   "cell_type": "markdown",
   "id": "18138b35-51dc-4f17-98aa-8db737a218d2",
   "metadata": {},
   "source": [
    "## PPO\n",
    "\n",
    "[Proximal Policy Optimization Algorithms](https://arxiv.org/abs/1707.06347)"
   ]
  },
  {
   "cell_type": "markdown",
   "id": "9d725ead-ea20-495e-95de-a03c771ce2f9",
   "metadata": {},
   "source": [
    "## Gradient-free policy search\n",
    "\n",
    "[Evolution Strategies as a Scalable Alternative to Reinforcement Learning](https://arxiv.org/abs/1703.03864)  \n",
    "[Back to Basics: Benchmarking Canonical Evolution Strategies for Playing Atari](https://arxiv.org/abs/1802.08842)"
   ]
  }
 ],
 "metadata": {
  "kernelspec": {
   "display_name": "Python 3 (ipykernel)",
   "language": "python",
   "name": "python3"
  },
  "language_info": {
   "codemirror_mode": {
    "name": "ipython",
    "version": 3
   },
   "file_extension": ".py",
   "mimetype": "text/x-python",
   "name": "python",
   "nbconvert_exporter": "python",
   "pygments_lexer": "ipython3",
   "version": "3.9.18"
  }
 },
 "nbformat": 4,
 "nbformat_minor": 5
}
